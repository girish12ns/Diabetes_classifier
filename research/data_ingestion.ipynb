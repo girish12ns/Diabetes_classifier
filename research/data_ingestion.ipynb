{
 "cells": [
  {
   "cell_type": "code",
   "execution_count": 1,
   "metadata": {},
   "outputs": [],
   "source": [
    "import os"
   ]
  },
  {
   "cell_type": "code",
   "execution_count": 2,
   "metadata": {},
   "outputs": [
    {
     "data": {
      "text/plain": [
       "'e:\\\\Diabetes_classifier\\\\research'"
      ]
     },
     "execution_count": 2,
     "metadata": {},
     "output_type": "execute_result"
    }
   ],
   "source": [
    "%pwd"
   ]
  },
  {
   "cell_type": "code",
   "execution_count": 3,
   "metadata": {},
   "outputs": [],
   "source": [
    "os.chdir('../')"
   ]
  },
  {
   "cell_type": "code",
   "execution_count": 4,
   "metadata": {},
   "outputs": [
    {
     "data": {
      "text/plain": [
       "'e:\\\\Diabetes_classifier'"
      ]
     },
     "execution_count": 4,
     "metadata": {},
     "output_type": "execute_result"
    }
   ],
   "source": [
    "%pwd"
   ]
  },
  {
   "cell_type": "code",
   "execution_count": 5,
   "metadata": {},
   "outputs": [],
   "source": [
    "from pathlib import Path\n",
    "from dataclasses import dataclass\n",
    "\n",
    "@dataclass(frozen=True)\n",
    "class DataingestionConfig:\n",
    "    root_dir : Path\n",
    "    source_dir: Path\n",
    "    train_dir : Path\n",
    "    test_dir : Path\n",
    "\n"
   ]
  },
  {
   "cell_type": "code",
   "execution_count": 6,
   "metadata": {},
   "outputs": [],
   "source": [
    "from src.DIABETES_CLASSIFIER.utils.common import read_yaml,create_directories\n",
    "from src.DIABETES_CLASSIFIER.constants import config_file_path,param_file_path\n",
    "from src.DIABETES_CLASSIFIER import logger"
   ]
  },
  {
   "cell_type": "code",
   "execution_count": 7,
   "metadata": {},
   "outputs": [],
   "source": [
    "\n",
    "\n",
    "class Configuratoration:\n",
    "    def __init__(self,config=config_file_path,params=param_file_path):\n",
    "        self.config=read_yaml(config)\n",
    "        self.params=read_yaml(params)\n",
    "\n",
    "        create_directories([self.config.artifacts_root])\n",
    "        \n",
    "        \n",
    "       \n",
    "\n",
    "    def get_data_ingestion_config(self)->DataingestionConfig:\n",
    "        self.config=self.config.data_ingestion\n",
    "\n",
    "        create_directories([self.config.root_dir])\n",
    "       \n",
    "        config_data_inegstion=DataingestionConfig(\n",
    "                            root_dir=self.config.root_dir,\n",
    "                            source_dir=self.config.source_dir,\n",
    "                            train_dir=self.config.train_dir,\n",
    "                            test_dir=self.config.test_dir,)\n",
    "\n",
    "        return config_data_inegstion\n",
    "                "
   ]
  },
  {
   "cell_type": "code",
   "execution_count": 9,
   "metadata": {},
   "outputs": [],
   "source": [
    "import yaml\n",
    "from box import ConfigBox\n",
    "\n",
    "def read_yaml(file_path):\n",
    "\n",
    "    with open(file_path,'r') as f:\n",
    "        content=yaml.safe_load(f)\n",
    "    return ConfigBox(content)"
   ]
  },
  {
   "cell_type": "code",
   "execution_count": 10,
   "metadata": {},
   "outputs": [
    {
     "name": "stdout",
     "output_type": "stream",
     "text": [
      "config\\config.yaml\n"
     ]
    }
   ],
   "source": [
    "from pathlib import Path\n",
    "x=Path('config\\config.yaml')\n",
    "print(x)"
   ]
  },
  {
   "cell_type": "code",
   "execution_count": 11,
   "metadata": {},
   "outputs": [
    {
     "name": "stdout",
     "output_type": "stream",
     "text": [
      "{'artifacts_root': 'artifacts', 'data_ingestion': {'root_dir': 'artifacts/data_ingestion', 'source_dir': 'DATA BOOK\\\\Data\\\\DIABETES.csv', 'train_dir': 'artifacts/data_ingestion/train.csv', 'test_dir': 'artifacts/data_ingestion/test.csv'}, 'data_transformation': {'root_dir': 'artifacts/data_transformation', 'preprocessor_dir': 'artifacts/data_transformation/preprocessor.pkl'}, 'data_trainer': {'root_dir': 'artifacts/model_trainer', 'model_dir': 'artifacts/model_trainer/model_trainer.pkl'}}\n"
     ]
    }
   ],
   "source": [
    "k=read_yaml(x)\n",
    "print(k)"
   ]
  },
  {
   "cell_type": "code",
   "execution_count": 12,
   "metadata": {},
   "outputs": [],
   "source": [
    "import pandas as pd\n",
    "from sklearn.model_selection import train_test_split\n"
   ]
  },
  {
   "cell_type": "code",
   "execution_count": 13,
   "metadata": {},
   "outputs": [],
   "source": [
    "\n",
    "class Data_ingestion:\n",
    "    def __init__(self,config):\n",
    "        self.config=config\n",
    "\n",
    "    \n",
    "    def get_the_data(self):\n",
    "\n",
    "        df=pd.read_csv(self.config.source_dir)\n",
    "\n",
    "        train_set,test_set=train_test_split(df,random_state=42)\n",
    "\n",
    "        train_set.to_csv(self.config.train_dir,index=False,header=True)\n",
    "\n",
    "        test_set.to_csv(self.config.test_dir,index=False,header=True)\n",
    "\n",
    "        return(\n",
    "            self.config.train_dir,\n",
    "            self.config.test_dir\n",
    "        )\n",
    "\n",
    "\n",
    "\n",
    "\n",
    "\n",
    "\n",
    "    "
   ]
  },
  {
   "cell_type": "code",
   "execution_count": 14,
   "metadata": {},
   "outputs": [
    {
     "name": "stdout",
     "output_type": "stream",
     "text": [
      "[2023-08-21 20:05:34,373: INFO: common: The directory created]\n",
      "[2023-08-21 20:05:34,375: INFO: common: The directory created]\n"
     ]
    }
   ],
   "source": [
    "try:\n",
    "    configuration=Configuratoration()\n",
    "    config=configuration.get_data_ingestion_config()\n",
    "\n",
    "    data=Data_ingestion(config)\n",
    "    train_set,test_set=data.get_the_data()\n",
    "except Exception as e:\n",
    "    raise e"
   ]
  },
  {
   "cell_type": "code",
   "execution_count": null,
   "metadata": {},
   "outputs": [],
   "source": []
  }
 ],
 "metadata": {
  "kernelspec": {
   "display_name": "Python 3",
   "language": "python",
   "name": "python3"
  },
  "language_info": {
   "codemirror_mode": {
    "name": "ipython",
    "version": 3
   },
   "file_extension": ".py",
   "mimetype": "text/x-python",
   "name": "python",
   "nbconvert_exporter": "python",
   "pygments_lexer": "ipython3",
   "version": "3.8.0"
  },
  "orig_nbformat": 4
 },
 "nbformat": 4,
 "nbformat_minor": 2
}

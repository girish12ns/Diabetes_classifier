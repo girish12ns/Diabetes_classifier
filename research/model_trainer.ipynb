{
 "cells": [
  {
   "cell_type": "code",
   "execution_count": 1,
   "metadata": {},
   "outputs": [],
   "source": [
    "import os"
   ]
  },
  {
   "cell_type": "code",
   "execution_count": 2,
   "metadata": {},
   "outputs": [
    {
     "data": {
      "text/plain": [
       "'e:\\\\Diabetes_classifier\\\\research'"
      ]
     },
     "execution_count": 2,
     "metadata": {},
     "output_type": "execute_result"
    }
   ],
   "source": [
    "%pwd"
   ]
  },
  {
   "cell_type": "code",
   "execution_count": 3,
   "metadata": {},
   "outputs": [],
   "source": [
    "os.chdir('../')"
   ]
  },
  {
   "cell_type": "code",
   "execution_count": 5,
   "metadata": {},
   "outputs": [],
   "source": [
    "from  pathlib import Path\n",
    "from dataclasses import dataclass\n",
    "\n",
    "\n",
    "@dataclass\n",
    "class Model_trainerConfig:\n",
    "    root_dir :Path\n",
    "    model_dir :Path\n",
    "    \n",
    "    \n"
   ]
  },
  {
   "cell_type": "code",
   "execution_count": 6,
   "metadata": {},
   "outputs": [],
   "source": [
    "from src.DIABETES_CLASSIFIER.utils.common import read_yaml,create_directories\n",
    "from src.DIABETES_CLASSIFIER.constants import config_file_path,param_file_path\n",
    "from src.DIABETES_CLASSIFIER import logger"
   ]
  },
  {
   "cell_type": "code",
   "execution_count": 7,
   "metadata": {},
   "outputs": [],
   "source": [
    "class Configuratoration:\n",
    "    def __init__(self,config=config_file_path,params=param_file_path):\n",
    "        self.config=read_yaml(config)\n",
    "        self.params=read_yaml(params)\n",
    "\n",
    "        create_directories([self.config.artifacts_root])\n",
    "\n",
    "    def get_model_trainer(self)->Model_trainerConfig:\n",
    "        \n",
    "        data=self.config.data_ingestion\n",
    "        trainer=self.config.data_trainer\n",
    "        transformation=self.config.data_transformation\n",
    "\n",
    "\n",
    "        create_directories([trainer.root_dir])\n",
    "\n",
    "        trainer_model=Model_trainerConfig(\n",
    "            root_dir=trainer.root_dir,\n",
    "            model_dir=trainer.model_dir\n",
    "        )\n",
    "\n",
    "\n",
    "\n",
    "        return (data,transformation,trainer_model)"
   ]
  },
  {
   "cell_type": "code",
   "execution_count": 8,
   "metadata": {},
   "outputs": [],
   "source": [
    "from src.DIABETES_CLASSIFIER.components.data_transformation import Data_Transformation\n",
    "from sklearn.linear_model import LogisticRegression\n",
    "from sklearn.naive_bayes import GaussianNB\n",
    "from sklearn.svm import SVC\n",
    "from sklearn.tree import DecisionTreeClassifier\n",
    "from sklearn.ensemble import RandomForestClassifier,GradientBoostingClassifier\n",
    "from catboost import CatBoostClassifier\n",
    "from xgboost import XGBRFClassifier\n",
    "from sklearn.metrics import accuracy_score,confusion_matrix,classification_report,recall_score\n",
    "from sklearn.neighbors import KNeighborsClassifier\n",
    "from src.DIABETES_CLASSIFIER.utils.common import  model_prediction,save_model\n"
   ]
  },
  {
   "cell_type": "code",
   "execution_count": 12,
   "metadata": {},
   "outputs": [],
   "source": [
    "class Model_trainer:\n",
    "    def __init__(self,config,data,transformation):\n",
    "        self.config=config\n",
    "        self.data=data\n",
    "        self.transformation=transformation\n",
    " \n",
    "\n",
    "    def get_trained_model(self,x_train,x_test,y_train,y_test):\n",
    "        models={\n",
    "            'logistic_model':LogisticRegression(),\n",
    "            'naive_bayes_model':GaussianNB(),\n",
    "            'svc':SVC(),\n",
    "            'Decision_tree':DecisionTreeClassifier(),\n",
    "            'Kn_neighbours':KNeighborsClassifier(),\n",
    "            'Random_forest':RandomForestClassifier(),\n",
    "            'Gradient_boosting':GradientBoostingClassifier(),\n",
    "            'Cat_boosting':CatBoostClassifier(),\n",
    "            'Xg_boosting':XGBRFClassifier()}\n",
    "        \n",
    "\n",
    "        \n",
    "        model_list,r_score_list,score_list=model_prediction(models=models,x_train=x_train,x_test=x_test,y_train=y_train,y_test=y_test)\n",
    "        \n",
    "        model_report={}\n",
    "\n",
    "        for x,y in zip(model_list,r_score_list):\n",
    "            model_report[x]=y\n",
    "\n",
    "        high_values_models=sorted(model_report.items(),key=lambda x:x[1],reverse=True)\n",
    "\n",
    "        print(high_values_models)\n",
    "\n",
    "        best_model=models[high_values_models[0][0]]\n",
    "\n",
    "\n",
    "        save_model(obj=best_model,file_path=self.config.model_dir)\n"
   ]
  },
  {
   "cell_type": "code",
   "execution_count": 33,
   "metadata": {},
   "outputs": [],
   "source": [
    "from src.DIABETES_CLASSIFIER.components.data_transformation import Data_Transformation\n"
   ]
  },
  {
   "cell_type": "code",
   "execution_count": 14,
   "metadata": {},
   "outputs": [
    {
     "name": "stdout",
     "output_type": "stream",
     "text": [
      "[2023-08-21 20:52:58,332: INFO: common: safe loaded config\\config.yaml]\n",
      "[2023-08-21 20:52:58,336: INFO: common: safe loaded params.yaml]\n",
      "[2023-08-21 20:52:58,339: INFO: common: The directory created]\n",
      "[2023-08-21 20:52:58,341: INFO: common: The directory created]\n",
      "[2023-08-21 20:52:58,603: INFO: data_transformation: creation of preprocessor_obj]\n",
      "(72109, 11)\n",
      "(24037, 11)\n",
      "(72109,)\n",
      "(24037,)\n",
      "[('logistic_model', 0.6236303001429252)]\n"
     ]
    }
   ],
   "source": [
    "try:\n",
    "    config=Configuratoration()\n",
    "    data,transformation,trainer_model=config.get_model_trainer()\n",
    "\n",
    "    transformation=Data_Transformation(config=transformation,ingestion=data)\n",
    "\n",
    "    x_train,x_test,y_train,y_test=transformation.data_tranformation_initiated()\n",
    "\n",
    "    print(x_train.shape)\n",
    "    print(x_test.shape)\n",
    "    print(y_train.shape)\n",
    "    print(y_test.shape)\n",
    "\n",
    "    model_trainer=Model_trainer(config=trainer_model,data=data,transformation=transformation)\n",
    "\n",
    "    model_trainer.get_trained_model(x_train,x_test,y_train,y_test)\n",
    "\n",
    "except Exception as e:\n",
    "    raise e\n"
   ]
  }
 ],
 "metadata": {
  "kernelspec": {
   "display_name": "Python 3",
   "language": "python",
   "name": "python3"
  },
  "language_info": {
   "codemirror_mode": {
    "name": "ipython",
    "version": 3
   },
   "file_extension": ".py",
   "mimetype": "text/x-python",
   "name": "python",
   "nbconvert_exporter": "python",
   "pygments_lexer": "ipython3",
   "version": "3.8.0"
  },
  "orig_nbformat": 4
 },
 "nbformat": 4,
 "nbformat_minor": 2
}

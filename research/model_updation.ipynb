{
 "cells": [
  {
   "cell_type": "code",
   "execution_count": 32,
   "metadata": {},
   "outputs": [],
   "source": [
    "import os"
   ]
  },
  {
   "cell_type": "code",
   "execution_count": 1,
   "metadata": {},
   "outputs": [
    {
     "data": {
      "text/plain": [
       "'e:\\\\Diabetes_classifier\\\\research'"
      ]
     },
     "execution_count": 1,
     "metadata": {},
     "output_type": "execute_result"
    }
   ],
   "source": [
    "%pwd"
   ]
  },
  {
   "cell_type": "code",
   "execution_count": 3,
   "metadata": {},
   "outputs": [],
   "source": [
    "import os"
   ]
  },
  {
   "cell_type": "code",
   "execution_count": 4,
   "metadata": {},
   "outputs": [],
   "source": [
    "os.chdir('../')"
   ]
  },
  {
   "cell_type": "code",
   "execution_count": 67,
   "metadata": {},
   "outputs": [
    {
     "data": {
      "text/plain": [
       "'e:\\\\Diabetes_classifier'"
      ]
     },
     "execution_count": 67,
     "metadata": {},
     "output_type": "execute_result"
    }
   ],
   "source": [
    "%pwd"
   ]
  },
  {
   "cell_type": "code",
   "execution_count": 69,
   "metadata": {},
   "outputs": [],
   "source": [
    "from pathlib import Path\n",
    "from dataclasses import dataclass\n",
    "\n",
    "@dataclass(frozen=True)\n",
    "class Model_updationConfig:\n",
    "    root_dir:Path\n",
    "    updated_model_dir :Path\n",
    "    criterion :str\n",
    "    splitter :str \n",
    "    min_samples_split :int\n",
    "    min_samples_leaf  :int\n",
    "\n",
    "\n",
    "    "
   ]
  },
  {
   "cell_type": "code",
   "execution_count": 71,
   "metadata": {},
   "outputs": [],
   "source": [
    "from sklearn.tree import DecisionTreeClassifier\n",
    "from sklearn.ensemble import RandomForestClassifier\n",
    "from imblearn.pipeline import Pipeline as imbPipeline\n",
    "from sklearn.model_selection import GridSearchCV,KFold\n",
    "from imblearn.over_sampling import SMOTE"
   ]
  },
  {
   "cell_type": "code",
   "execution_count": 72,
   "metadata": {},
   "outputs": [],
   "source": [
    "from src.DIABETES_CLASSIFIER.constants import config_file_path\n",
    "from src.DIABETES_CLASSIFIER.constants import param_file_path\n",
    "from src.DIABETES_CLASSIFIER.utils.common import create_directories,read_yaml"
   ]
  },
  {
   "cell_type": "code",
   "execution_count": 75,
   "metadata": {},
   "outputs": [],
   "source": [
    "\n",
    "class Configuratoration:\n",
    "    def __init__(self,config=config_file_path,params=param_file_path):\n",
    "        self.config=read_yaml(config)\n",
    "        self.params=read_yaml(params)\n",
    "\n",
    "        create_directories([self.config.artifacts_root])\n",
    "\n",
    "    def get_updated_model_config(self)->Model_updationConfig:\n",
    "        data=self.config.data_ingestion\n",
    "        transformation=self.config.data_transformation\n",
    "        model=self.config.data_trainer\n",
    "        update_model=self.config.Model_updation\n",
    "        params=self.params.Decision_TreeClassifier\n",
    "      \n",
    "\n",
    "        create_directories([update_model.root_dir])\n",
    "\n",
    "        \n",
    "\n",
    "        model_updation=Model_updationConfig(\n",
    "            root_dir=update_model.root_dir,\n",
    "            updated_model_dir=update_model.updated_model_dir,\n",
    "            splitter=params.splitter,\n",
    "            min_samples_leaf=params.min_samples_leaf,\n",
    "            min_samples_split=params.min_samples_split,criterion=params.criterion)\n",
    "        \n",
    "        return (model_updation,data,transformation,model,data)\n",
    "\n",
    "\n"
   ]
  },
  {
   "cell_type": "code",
   "execution_count": 86,
   "metadata": {},
   "outputs": [],
   "source": [
    "from src.DIABETES_CLASSIFIER.utils.common import load_model\n",
    "from sklearn.model_selection import train_test_split\n",
    "from sklearn.ensemble import RandomForestClassifier\n",
    "\n",
    "\n",
    "import pandas as pd"
   ]
  },
  {
   "cell_type": "code",
   "execution_count": 92,
   "metadata": {},
   "outputs": [],
   "source": [
    "class Model_updation:\n",
    "    def __init__(self,model_updation,data,transformation,model):\n",
    "        self.config=model_updation\n",
    "        self.transformations=transformation\n",
    "        self.model=model\n",
    "        self.data=data\n",
    "\n",
    "    def get_updated_model(self):\n",
    "\n",
    "        model=load_model(self.model.model_dir)\n",
    "        preprocessor=load_model(Path('artifacts\\data_transformation\\preprocessor.pkl'))\n",
    "\n",
    "        df=pd.read_csv('artifacts\\\\data_ingestion\\\\train.csv')\n",
    "\n",
    "        X_train,Y_train=(df.iloc[:,:-1],df.iloc[:,-1])\n",
    "\n",
    "        params_grid={'classifier__splitter':self.config.splitter,\n",
    "            'classifier__min_samples_leaf':self.config.min_samples_leaf,\n",
    "            'classifier__min_samples_split':self.config.min_samples_split,\n",
    "            'classifier__criterion':self.config.criterion}\n",
    "        \n",
    "        param_grids = {'classifier__n_estimators': [50, 100, 200],\n",
    "    'classifier__max_depth': [None, 5, 10],\n",
    "    'classifier__min_samples_split': [1, 5, 10],\n",
    "    'classifier__min_samples_leaf': [1, 2, 4]}\n",
    "        \n",
    "\n",
    "\n",
    "\n",
    "\n",
    "        clf=imbPipeline(steps=[\n",
    "           ('preprocessor',preprocessor),\n",
    "           ('sm',SMOTE(random_state=11)),\n",
    "           ('classifier',RandomForestClassifier())\n",
    "           ])\n",
    "        grid_model=GridSearchCV(clf,param_grid=param_grids,cv=5)\n",
    "\n",
    "        grid_model.fit(X_train,Y_train)\n",
    "\n",
    "        return grid_model.best_params_"
   ]
  },
  {
   "cell_type": "code",
   "execution_count": 93,
   "metadata": {},
   "outputs": [],
   "source": [
    "from src.DIABETES_CLASSIFIER.components.data_transformation import Data_Transformation"
   ]
  },
  {
   "cell_type": "code",
   "execution_count": null,
   "metadata": {},
   "outputs": [],
   "source": [
    "config=Configuratoration()\n",
    "model_updation,data,transformation,model,data=config.get_updated_model_config()\n",
    "\n",
    "\n",
    "transformation=Data_Transformation(config=transformation,ingestion=data)\n",
    "\n",
    "x_train,x_test,y_train,y_test=transformation.data_tranformation_initiated()\n",
    "\n",
    "model=Model_updation(model_updation=model_updation,transformation=transformation,data=data,model=model)\n",
    "\n",
    "print(x_train.shape)\n",
    "print(y_train.shape)\n",
    "\n",
    "model.get_updated_model()"
   ]
  }
 ],
 "metadata": {
  "kernelspec": {
   "display_name": "Python 3",
   "language": "python",
   "name": "python3"
  },
  "language_info": {
   "codemirror_mode": {
    "name": "ipython",
    "version": 3
   },
   "file_extension": ".py",
   "mimetype": "text/x-python",
   "name": "python",
   "nbconvert_exporter": "python",
   "pygments_lexer": "ipython3",
   "version": "3.8.0"
  },
  "orig_nbformat": 4
 },
 "nbformat": 4,
 "nbformat_minor": 2
}

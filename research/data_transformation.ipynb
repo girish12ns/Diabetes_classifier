{
 "cells": [
  {
   "cell_type": "code",
   "execution_count": 20,
   "metadata": {},
   "outputs": [],
   "source": [
    "import os"
   ]
  },
  {
   "cell_type": "code",
   "execution_count": 21,
   "metadata": {},
   "outputs": [
    {
     "data": {
      "text/plain": [
       "'e:\\\\Diabetes_classifier'"
      ]
     },
     "execution_count": 21,
     "metadata": {},
     "output_type": "execute_result"
    }
   ],
   "source": [
    "%pwd"
   ]
  },
  {
   "cell_type": "code",
   "execution_count": 5,
   "metadata": {},
   "outputs": [],
   "source": [
    "os.chdir('../')"
   ]
  },
  {
   "cell_type": "code",
   "execution_count": 22,
   "metadata": {},
   "outputs": [
    {
     "data": {
      "text/plain": [
       "'e:\\\\Diabetes_classifier'"
      ]
     },
     "execution_count": 22,
     "metadata": {},
     "output_type": "execute_result"
    }
   ],
   "source": [
    "%pwd"
   ]
  },
  {
   "cell_type": "code",
   "execution_count": 24,
   "metadata": {},
   "outputs": [],
   "source": [
    "from pathlib import Path\n",
    "from dataclasses import dataclass\n",
    "\n",
    "@dataclass(frozen=True)\n",
    "class Data_TransformationConfig:\n",
    "    root_dir:Path\n",
    "    preprocessor_dir:Path"
   ]
  },
  {
   "cell_type": "code",
   "execution_count": 10,
   "metadata": {},
   "outputs": [],
   "source": [
    "from src.DIABETES_CLASSIFIER.utils.common import read_yaml,create_directories\n",
    "from src.DIABETES_CLASSIFIER.constants import config_file_path,param_file_path\n",
    "from src.DIABETES_CLASSIFIER import logger"
   ]
  },
  {
   "cell_type": "code",
   "execution_count": 25,
   "metadata": {},
   "outputs": [],
   "source": [
    "\n",
    "class Configuratoration:\n",
    "    def __init__(self,config=config_file_path,params=param_file_path):\n",
    "        self.config=read_yaml(config)\n",
    "        self.params=read_yaml(params)\n",
    "\n",
    "        create_directories([self.config.artifacts_root])\n",
    "\n",
    "    def get_data_transformation(self) ->Data_TransformationConfig:\n",
    "        config=self.config.data_transformation\n",
    "        ingestion=self.config.data_ingestion\n",
    "\n",
    "        create_directories([config.root_dir])\n",
    "\n",
    "        transformation=Data_TransformationConfig(\n",
    "            root_dir=config.root_dir,\n",
    "            preprocessor_dir=config.preprocessor_dir)\n",
    "\n",
    "        return (transformation, ingestion)\n",
    "    \n",
    "\n"
   ]
  },
  {
   "cell_type": "code",
   "execution_count": 26,
   "metadata": {},
   "outputs": [],
   "source": [
    "from sklearn.model_selection import train_test_split\n",
    "from sklearn.compose import ColumnTransformer\n",
    "from sklearn.pipeline import Pipeline\n",
    "from sklearn.impute import SimpleImputer\n",
    "from sklearn.preprocessing import OneHotEncoder,StandardScaler\n",
    "import pandas as pd\n"
   ]
  },
  {
   "cell_type": "code",
   "execution_count": 27,
   "metadata": {},
   "outputs": [],
   "source": [
    "from src.DIABETES_CLASSIFIER.utils.common import save_model"
   ]
  },
  {
   "cell_type": "code",
   "execution_count": 29,
   "metadata": {},
   "outputs": [],
   "source": [
    "class Data_Transformation:\n",
    "    def __init__(self,config,ingestion):\n",
    "        self.config=config\n",
    "        self.ingestion=ingestion\n",
    "       \n",
    "\n",
    "    def get_preprocessor_object(self):\n",
    "\n",
    "        numerical_features=['age','hypertension','heart_disease','bmi','HbA1c_level','blood_glucose_level',]\n",
    "\n",
    "        cat_features=['gender','smoking_history']\n",
    "\n",
    "        logger.info(\"creation of preprocessor_obj\")\n",
    "\n",
    "\n",
    "        #building pipline\n",
    "        num_pip=Pipeline(steps=[\n",
    "            ('scaler',StandardScaler()),\n",
    "            ('impute',SimpleImputer(strategy='mean'))\n",
    "                ])\n",
    "\n",
    "        cat_pip=Pipeline(steps=[\n",
    "                ('coder',OneHotEncoder()),\n",
    "                ('impuet',SimpleImputer(strategy='most_frequent'))\n",
    "                ])\n",
    "        \n",
    "        preprocessor=ColumnTransformer([\n",
    "            ('num_pip',num_pip,numerical_features),\n",
    "            ('cat_pip',cat_pip,cat_features)\n",
    "           ])\n",
    "\n",
    "\n",
    "        return preprocessor\n",
    "    \n",
    "    def data_tranformation_initiated(self):\n",
    "\n",
    "        train_df=pd.read_csv(self.ingestion.train_dir)\n",
    "\n",
    "        test_df=pd.read_csv(self.ingestion.test_dir)\n",
    "\n",
    " \n",
    "        x_train,x_test=(train_df.iloc[:,:-1],test_df.iloc[:,:-1])\n",
    "        y_train,y_test=(train_df.iloc[:,-1],test_df.iloc[:,-1])\n",
    "\n",
    "\n",
    "        preprocessor_obj=self.get_preprocessor_object()\n",
    "\n",
    "        x_train_array=preprocessor_obj.fit_transform(x_train)\n",
    "\n",
    "        x_test_array=preprocessor_obj.transform(x_test)\n",
    "\n",
    "        save_model(obj=preprocessor_obj,file_path=self.config.preprocessor_dir)\n",
    "\n",
    "\n",
    "        return (x_train_array,x_test_array,y_train,y_test)\n"
   ]
  },
  {
   "cell_type": "code",
   "execution_count": 31,
   "metadata": {},
   "outputs": [
    {
     "name": "stdout",
     "output_type": "stream",
     "text": [
      "[2023-08-21 20:24:02,736: INFO: common: safe loaded config\\config.yaml]\n",
      "[2023-08-21 20:24:02,744: INFO: common: safe loaded params.yaml]\n",
      "[2023-08-21 20:24:02,748: INFO: common: The directory created]\n",
      "[2023-08-21 20:24:02,752: INFO: common: The directory created]\n"
     ]
    },
    {
     "name": "stdout",
     "output_type": "stream",
     "text": [
      "[2023-08-21 20:24:03,072: INFO: 735389131: creation of preprocessor_obj]\n",
      "(72109, 11)\n",
      "(24037, 11)\n",
      "(72109,)\n",
      "(24037,)\n"
     ]
    }
   ],
   "source": [
    "try:\n",
    "    data=Configuratoration()\n",
    "\n",
    "    config,ingestion=data.get_data_transformation()\n",
    "\n",
    "    transformation=Data_Transformation(config,ingestion)\n",
    "\n",
    "    x_train,x_test,y_train,y_test=transformation.data_tranformation_initiated()\n",
    "\n",
    "    print(x_train.shape)\n",
    "    print(x_test.shape)\n",
    "    print(y_train.shape)\n",
    "    print(y_test.shape)\n",
    "\n",
    "except Exception as e:\n",
    "    raise e"
   ]
  },
  {
   "cell_type": "code",
   "execution_count": null,
   "metadata": {},
   "outputs": [],
   "source": []
  },
  {
   "cell_type": "code",
   "execution_count": null,
   "metadata": {},
   "outputs": [],
   "source": []
  }
 ],
 "metadata": {
  "kernelspec": {
   "display_name": "Python 3",
   "language": "python",
   "name": "python3"
  },
  "language_info": {
   "codemirror_mode": {
    "name": "ipython",
    "version": 3
   },
   "file_extension": ".py",
   "mimetype": "text/x-python",
   "name": "python",
   "nbconvert_exporter": "python",
   "pygments_lexer": "ipython3",
   "version": "3.8.0"
  },
  "orig_nbformat": 4
 },
 "nbformat": 4,
 "nbformat_minor": 2
}
